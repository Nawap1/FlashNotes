{
 "cells": [
  {
   "cell_type": "code",
   "execution_count": 3,
   "metadata": {},
   "outputs": [
    {
     "name": "stdout",
     "output_type": "stream",
     "text": [
      "Adding Document...\n",
      "Response from /add_document: {'message': 'Document added successfully'}\n"
     ]
    }
   ],
   "source": [
    "import httpx\n",
    "import asyncio\n",
    "from tenacity import retry, stop_after_attempt, wait_fixed\n",
    "\n",
    "base_url = \"http://localhost:8000\"\n",
    "\n",
    "@retry(stop=stop_after_attempt(3), wait=wait_fixed(5))\n",
    "async def add_document_test():\n",
    "    async with httpx.AsyncClient(timeout=60.0) as client:\n",
    "        document_data = {\n",
    "            \"content\": \"This is a sample document about machine learning.\",\n",
    "            \"metadata\": {\"source\": \"ML Course\"}\n",
    "        }\n",
    "        response = await client.post(f\"{base_url}/add_document\", json=document_data)\n",
    "        return response.json()\n",
    "\n",
    "async def test_chatbot():\n",
    "    print(\"Adding Document...\")\n",
    "    add_doc_response = await add_document_test()\n",
    "    print(\"Response from /add_document:\", add_doc_response)\n",
    "\n",
    "# Run the test\n",
    "await test_chatbot()\n"
   ]
  },
  {
   "cell_type": "code",
   "execution_count": 5,
   "metadata": {},
   "outputs": [
    {
     "name": "stdout",
     "output_type": "stream",
     "text": [
      "Starting Chat...\n",
      "Response from chatbot: {'answer': 'Hello! As a young astronomer with advanced knowledge and skills, I have been tasked with investigating the disappearance of the moon in 2042 and discovering how to return it. My expertise lies in astronomy, physics, technology, and problem-solving. How may I assist you today?', 'conversation_id': 'test-conversation', 'sources': ['randomstory.txt - In the year 2042, humanity had conquered space. Lunar colonies were thriving, and Mars was being ter...']}\n",
      "Follow-up response: {'answer': \"Based on the context provided, there are multiple theories about why the moon might have disappeared in 2042:\\n\\n1. **Alien Abduction**: Some theories suggest extraterrestrial beings abducted the moon for unknown reasons.\\n\\n2. **Natural Anomaly**: Natural phenomena such as a massive solar flare or asteroid impact could potentially explain its disappearance.\\n\\n3. **Unknown Energy Drain**: According to your investigation, an unknown force has been siphoning energy from the moon, creating a portal to another dimension and making it vanish without a trace.\\n\\nGiven these possibilities, it seems most plausible that you believe the moon disappeared due to an **unknown energy drain** causing the creation of a portal. This would necessitate finding a way to restore the moon's energy balance in order for it to return to its original position.\", 'conversation_id': 'test-conversation', 'sources': ['randomstory.txt - In the year 2042, humanity had conquered space. Lunar colonies were thriving, and Mars was being ter...']}\n",
      "Delete Response: {'message': 'Conversation test-conversation deleted successfully'}\n"
     ]
    }
   ],
   "source": [
    "async def test_chatbot():\n",
    "    print(\"Starting Chat...\")\n",
    "    \n",
    "    conversation_id = \"test-conversation\"\n",
    "    \n",
    "    # First, let's add some test document\n",
    "    test_doc = {\n",
    "        \"content\": \"In the year 2042, humanity had conquered space. Lunar colonies were thriving, and Mars was being terraformed. But one day, the moon vanished. Scientists were baffled. No trace of it was found. Theories ranged from alien abduction to a natural anomaly.You, a young astronomer, were tasked with investigating. Armed with cutting-edge technology, you embarked on a perilous journey to the moon's former orbit. There, you discovered a strange energy field. As you probed deeper, you realized it was a portal to another dimension. Intrigued, you ventured through.On the other side, you found a parallel Earth, eerily similar to your own. But there was one crucial difference: the moon was intact, hanging in the sky. You realized that an unknown force had been siphoning energy from the moon, creating the portal.Your mission became clear: to find a way to return the moon to its rightful place. But as you worked, you discovered a dark secret about the beings behind the energy drain. They were not benevolent.\",\n",
    "        \"metadata\": {\"source\": \"randomstory.txt\"}\n",
    "        }\n",
    "    \n",
    "    async with httpx.AsyncClient(timeout=60.0) as client:\n",
    "        # Add the document\n",
    "        await client.post(f\"{base_url}/add_document\", json=test_doc)\n",
    "        \n",
    "        # Initial message\n",
    "        initial_message = {\n",
    "            \"query\": \"Hello! What can you do?\",\n",
    "            \"conversation_id\": conversation_id\n",
    "        }\n",
    "        chat_response = await client.post(f\"{base_url}/chat\", json=initial_message)\n",
    "        print(\"Response from chatbot:\", chat_response.json())\n",
    "        \n",
    "        # Follow-up question\n",
    "        follow_up_message = {\n",
    "            \"query\": \"What do you think caused the moon to vanish in the first place?\",\n",
    "            \"conversation_id\": conversation_id\n",
    "        }\n",
    "        follow_up_response = await client.post(f\"{base_url}/chat\", json=follow_up_message)\n",
    "        print(\"Follow-up response:\", follow_up_response.json())\n",
    "        \n",
    "        # Delete the conversation\n",
    "        delete_response  = await client.delete(f\"{base_url}/conversations/{conversation_id}\")\n",
    "        print(\"Delete Response:\", delete_response.json())\n",
    "\n",
    "# Running the test using asyncio\n",
    "await test_chatbot()"
   ]
  },
  {
   "cell_type": "code",
   "execution_count": 7,
   "metadata": {},
   "outputs": [
    {
     "name": "stdout",
     "output_type": "stream",
     "text": [
      "Starting document upload and read test...\n",
      "Response from document upload: {'detail': 'Unsupported file extension: '}\n"
     ]
    }
   ],
   "source": [
    "async def test_document_reader():\n",
    "    print(\"Starting document upload and read test...\")\n",
    "\n",
    "    # Define the file path for the document to be uploaded\n",
    "    file_path = \"samples/sample.pptx\"  # Replace with the path to your test document\n",
    "    \n",
    "    async with httpx.AsyncClient(timeout=60.0) as client:\n",
    "        # Open the file in binary mode for upload\n",
    "        with open(file_path, \"rb\") as f:\n",
    "            files = {'file': (file_path, f, 'multipart/form-data')}\n",
    "            \n",
    "            # Upload the document to the API\n",
    "            upload_response = await client.post(f\"{base_url}/read_document\", files=files)\n",
    "            print(\"Response from document upload:\", upload_response.json())\n",
    "await test_document_reader()"
   ]
  },
  {
   "cell_type": "code",
   "execution_count": 15,
   "metadata": {},
   "outputs": [
    {
     "name": "stdout",
     "output_type": "stream",
     "text": [
      "Starting Document Reader Test...\n",
      "Response from document reader: {'text': 'Various Image Segmentation Techniques:\\nDifferent types of Image Segmentation Techniques\\nThresholding technique segmentation\\nHistogram based segmentation\\nRegion based segmentation\\nEdge based segmentation\\nClustering based segmentation\\nMorphological Transforms and\\nTexture based segmentation approaches\\nThresholding technique segmentation\\nSegmentation algorithms based on thresholding approach are suitable for images where there is distinct difference between object and background.\\nMain Goal: divide an image into two distinct regions (object and background) directly based on intensity values and their properties\\nTypes: Global, Variable, Multiple\\n\\nOriginal coins image\\n2)Histogram based segmentation\\nHistogram of an image is a plot between intensity levels. \\nDeep valleys are used to separate different peaks of histogram. \\nHistogram peaks are tall, narrow, symmetric.\\n3) Region based Segmentation\\nThe region-based segmentation methods segments the image into various regions having similar characterizes. \\n\\nTwo Techniques: \\na. Region growing, and\\nb. Region split and merge techniques \\nWatershed \\ntransformation\\n\\n4) Edge-based segmentation \\nEdges are defined as “Sudden and Significant changes in the intensity” of an image. \\nBoundaries demonstrates changes between object in the images. \\nSignificant change in intensity between objects in the images\\nUseful when there are many objects in the images. \\nDifferent than region-based segmentation. Edge-based segmentation completely based on dissimilarities or discontinuity. \\n\\n\\n5) Clustering-based segmentation \\nThe clustering-based techniques segment the image into cluster having pixels with similar   characteristics.\\nMany types of clustering. \\nSelect the best of them that proven success rate with the image processing. \\n7) Texture based segmentation approaches\\nSegmentation based on texture characteristics consists of dividing an image into different     regions based on similarity in texture features. \\n Texture = repeated pattern of information\\nTexture image = appearance, structure, and arrangement of the parts of an object within the image. \\n6)Morphological Transforms based Segmentation \\nMorphology is study of shapes.\\nIt has a set of image processing operations that process images based on shapes and not based on pixel intensities. \\nRemember: shapes segmentations = Morphological transforms-based segmentation\\nBasic Morphological Filtering:\\nErosion\\nDilation\\nOpening\\nClosing\\nWhite Tophat\\nBlack Tophat\\nSkeletonize \\nConvex Hull\\n\\nDifferent types of Morphological Filtering\\nSkeleton and Convex hull method: \\nThe convex skull of a polygon is the largest convex polygon contained inside it. It can be found in polynomial time, but the exponent of the algorithm is high.\\nThinning is used to reduce each connected component in a binary image to a single-pixel wide skeleton. It is important to note that this is performed on binary images only.\\nInteraction with 3D images\\n3D image processing is the visualization, processing, and analysis of 3D image data through geometric transformations, filtering, image segmentation, and other morphological operations.\\n3D kidney image\\n\\xa0A slice (2D plane) of the 3D data Kidney image\\n# Animation frames from 3D images \\n3D animation creates moving images in a 3D environment, giving digital objects the illusion of motion through 3D space.\\nTensor Structure computation  of 3D images \\nIn the context of volumetric (3D) image analysis, a structure tensor is a 3-by-3 matrix which summarizes orientation in a certain neighborhood around a certain point.\\nLet’s Go to Exercise ……'}\n"
     ]
    }
   ],
   "source": [
    "# test_document_reader.py\n",
    "import os\n",
    "import asyncio\n",
    "import httpx\n",
    "\n",
    "base_url = \"http://127.0.0.1:8000\"\n",
    "\n",
    "async def test_document_reader():\n",
    "    print(\"Starting Document Reader Test...\")\n",
    "\n",
    "    # Define the path to a test document\n",
    "    test_file_path = \"samples/sample.pptx\"\n",
    "\n",
    "    # Ensure the test document exists\n",
    "    if not os.path.exists(test_file_path):\n",
    "        raise FileNotFoundError(f\"The test file {test_file_path} does not exist.\")\n",
    "\n",
    "    async with httpx.AsyncClient(timeout=60.0) as client:\n",
    "        # Upload the document and extract text\n",
    "        with open(test_file_path, \"rb\") as file:\n",
    "            files = {\"file\": (os.path.basename(test_file_path), file)}\n",
    "            response = await client.post(f\"{base_url}/extract-text/\", files=files)\n",
    "        \n",
    "        print(\"Response from document reader:\", response.json())\n",
    "\n",
    "await test_document_reader()"
   ]
  },
  {
   "cell_type": "code",
   "execution_count": null,
   "metadata": {},
   "outputs": [],
   "source": []
  }
 ],
 "metadata": {
  "kernelspec": {
   "display_name": "torchdl",
   "language": "python",
   "name": "python3"
  },
  "language_info": {
   "codemirror_mode": {
    "name": "ipython",
    "version": 3
   },
   "file_extension": ".py",
   "mimetype": "text/x-python",
   "name": "python",
   "nbconvert_exporter": "python",
   "pygments_lexer": "ipython3",
   "version": "3.10.14"
  }
 },
 "nbformat": 4,
 "nbformat_minor": 2
}
