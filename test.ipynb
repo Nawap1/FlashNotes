{
 "cells": [
  {
   "cell_type": "code",
   "execution_count": 3,
   "metadata": {},
   "outputs": [
    {
     "name": "stdout",
     "output_type": "stream",
     "text": [
      "Adding Document...\n",
      "Response from /add_document: {'message': 'Document added successfully'}\n"
     ]
    }
   ],
   "source": [
    "import httpx\n",
    "import asyncio\n",
    "from tenacity import retry, stop_after_attempt, wait_fixed\n",
    "\n",
    "base_url = \"http://localhost:8000\"\n",
    "\n",
    "@retry(stop=stop_after_attempt(3), wait=wait_fixed(5))\n",
    "async def add_document_test():\n",
    "    async with httpx.AsyncClient(timeout=60.0) as client:\n",
    "        document_data = {\n",
    "            \"content\": \"This is a sample document about machine learning.\",\n",
    "            \"metadata\": {\"source\": \"ML Course\"}\n",
    "        }\n",
    "        response = await client.post(f\"{base_url}/add_document\", json=document_data)\n",
    "        return response.json()\n",
    "\n",
    "async def test_chatbot():\n",
    "    print(\"Adding Document...\")\n",
    "    add_doc_response = await add_document_test()\n",
    "    print(\"Response from /add_document:\", add_doc_response)\n",
    "\n",
    "# Run the test\n",
    "await test_chatbot()\n"
   ]
  },
  {
   "cell_type": "code",
   "execution_count": 15,
   "metadata": {},
   "outputs": [
    {
     "name": "stdout",
     "output_type": "stream",
     "text": [
      "Starting Chat...\n",
      "Response from chatbot: {'answer': 'I am here to help with information related to machine learning. Specifically, I can explain what supervised learning is and how it works. Is there a particular aspect of supervised learning or machine learning that you would like me to explain further?', 'conversation_id': 'test-conversation', 'sources': ['ml_basics.txt - Supervised learning is a type of machine learning where the algorithm learns from labeled training d...', 'ml_basics.txt - Supervised learning is a type of machine learning where the algorithm learns from labeled training d...', 'ml_basics.txt - Supervised learning is a type of machine learning where the algorithm learns from labeled training d...', 'ml_basics.txt - Supervised learning is a type of machine learning where the algorithm learns from labeled training d...']}\n",
      "Follow-up response: {'answer': \"Certainly! Supervised learning is a fundamental concept in the field of machine learning where algorithms are trained on labeled data, meaning each input has an associated correct output label. This process allows the algorithm to learn patterns and relationships within the data.\\n\\nHere's a step-by-step explanation of how supervised learning works:\\n\\n1. **Labeled Data**: In this phase, you have a dataset that includes both inputs (features) and corresponding outputs or labels. For example, in a binary classification problem, you might have input features like age, income, etc., and the output label could be whether someone buys a product (yes/no).\\n\\n2. **Model Selection**: Choose an appropriate algorithm to solve your learning task based on the nature of the data and the type of problem at hand (e.g., linear regression for predicting numerical values, decision trees or random forests for classification tasks, etc.).\\n\\n3. **Training Phase**: The algorithm is trained using the labeled dataset. During this phase, the model learns from the examples in the training set to minimize the difference between its predictions and the actual labels.\\n\\n4. **Model Evaluation**: Once the model has been trained, it's evaluated on a separate validation or test dataset that was not used during training. This helps determine how well the model generalizes to new, unseen data.\\n\\n5. **Fine-tuning Parameters**: Based on the evaluation results, you might fine-tune the parameters of your machine learning algorithm to improve its performance and accuracy.\\n\\n6. **Deployment**: After satisfactory testing and validation, the trained model is deployed for making predictions or decisions about new, unlabeled data.\\n\\n7. **Continuous Learning**: The process can be repeated if there's more labeled data available for additional training or if there are new features that can help improve the model performance.\\n\\nBy following these steps, supervised learning algorithms learn to map inputs to outputs in a way that enables them to make accurate predictions on new, unseen data points.\", 'conversation_id': 'test-conversation', 'sources': ['ML Course - This is a sample document about machine learning....', 'ML Course - This is a sample document about machine learning....', 'ML Course - This is a sample document about machine learning....', 'ml_basics.txt - Supervised learning is a type of machine learning where the algorithm learns from labeled training d...']}\n"
     ]
    }
   ],
   "source": [
    "async def test_chatbot():\n",
    "    print(\"Starting Chat...\")\n",
    "    \n",
    "    conversation_id = \"test-conversation\"\n",
    "    \n",
    "    # First, let's add some test document\n",
    "    test_doc = {\n",
    "        \"content\": \"\"\"Supervised learning is a type of machine learning where the algorithm learns from labeled training data. \n",
    "        In supervised learning, each training example has an input and a corresponding correct output (label). \n",
    "        The algorithm learns to map inputs to outputs based on this training data.\"\"\",\n",
    "        \"metadata\": {\"source\": \"ml_basics.txt\"}\n",
    "    }\n",
    "    \n",
    "    async with httpx.AsyncClient(timeout=60.0) as client:\n",
    "        # Add the document\n",
    "        await client.post(f\"{base_url}/add_document\", json=test_doc)\n",
    "        \n",
    "        # Initial message\n",
    "        initial_message = {\n",
    "            \"query\": \"Hello! What can you do?\",\n",
    "            \"conversation_id\": conversation_id\n",
    "        }\n",
    "        chat_response = await client.post(f\"{base_url}/chat\", json=initial_message)\n",
    "        print(\"Response from chatbot:\", chat_response.json())\n",
    "        \n",
    "        # Follow-up question\n",
    "        follow_up_message = {\n",
    "            \"query\": \"Can you explain supervised learning?\",\n",
    "            \"conversation_id\": conversation_id\n",
    "        }\n",
    "        follow_up_response = await client.post(f\"{base_url}/chat\", json=follow_up_message)\n",
    "        print(\"Follow-up response:\", follow_up_response.json())\n",
    "\n",
    "# Running the test using asyncio\n",
    "await test_chatbot()"
   ]
  },
  {
   "cell_type": "code",
   "execution_count": null,
   "metadata": {},
   "outputs": [],
   "source": []
  }
 ],
 "metadata": {
  "kernelspec": {
   "display_name": "torchdl",
   "language": "python",
   "name": "python3"
  },
  "language_info": {
   "codemirror_mode": {
    "name": "ipython",
    "version": 3
   },
   "file_extension": ".py",
   "mimetype": "text/x-python",
   "name": "python",
   "nbconvert_exporter": "python",
   "pygments_lexer": "ipython3",
   "version": "3.10.14"
  }
 },
 "nbformat": 4,
 "nbformat_minor": 2
}
