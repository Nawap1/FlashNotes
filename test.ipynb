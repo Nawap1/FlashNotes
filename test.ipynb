{
 "cells": [
  {
   "cell_type": "code",
   "execution_count": 3,
   "metadata": {},
   "outputs": [
    {
     "name": "stdout",
     "output_type": "stream",
     "text": [
      "Adding Document...\n",
      "Response from /add_document: {'message': 'Document added successfully'}\n"
     ]
    }
   ],
   "source": [
    "import httpx\n",
    "import asyncio\n",
    "from tenacity import retry, stop_after_attempt, wait_fixed\n",
    "\n",
    "base_url = \"http://localhost:8000\"\n",
    "\n",
    "@retry(stop=stop_after_attempt(3), wait=wait_fixed(5))\n",
    "async def add_document_test():\n",
    "    async with httpx.AsyncClient(timeout=60.0) as client:\n",
    "        document_data = {\n",
    "            \"content\": \"This is a sample document about machine learning.\",\n",
    "            \"metadata\": {\"source\": \"ML Course\"}\n",
    "        }\n",
    "        response = await client.post(f\"{base_url}/add_document\", json=document_data)\n",
    "        return response.json()\n",
    "\n",
    "async def test_chatbot():\n",
    "    print(\"Adding Document...\")\n",
    "    add_doc_response = await add_document_test()\n",
    "    print(\"Response from /add_document:\", add_doc_response)\n",
    "\n",
    "# Run the test\n",
    "await test_chatbot()\n"
   ]
  },
  {
   "cell_type": "code",
   "execution_count": 17,
   "metadata": {},
   "outputs": [
    {
     "name": "stdout",
     "output_type": "stream",
     "text": [
      "Starting Chat...\n",
      "Response from chatbot: {'answer': \"Hello! I'm here to help with information about machine learning, specifically supervised learning. How may I assist you today?\", 'conversation_id': 'test-conversation', 'sources': ['ml_basics.txt - Supervised learning is a type of machine learning where the algorithm learns from labeled training d...', 'ml_basics.txt - Supervised learning is a type of machine learning where the algorithm learns from labeled training d...', 'ml_basics.txt - Supervised learning is a type of machine learning where the algorithm learns from labeled training d...', 'ml_basics.txt - Supervised learning is a type of machine learning where the algorithm learns from labeled training d...']}\n",
      "Follow-up response: {'answer': 'Certainly! In supervised learning, the algorithm learns from labeled training data. Here’s a breakdown:\\n\\n1. **Training Data**: This includes a set of inputs (features) and corresponding correct outputs or labels.\\n\\n2. **Learning Process**: The goal is to train an algorithm using this labeled data so that it can predict the correct output for new, unseen input data.\\n\\n3. **Key Components**:\\n   - **Inputs**: These are the features/data points on which predictions will be made.\\n   - **Outputs/Labels**: These are the known or desired outcomes corresponding to each set of inputs in the training data.\\n\\n4. **Objective**: The ultimate aim is for the algorithm to learn a mapping function from input variables to output variables so that it can make accurate predictions when new, unseen inputs come up.\\n\\n5. **Types of Supervised Learning**:\\n   - Classification: When the labels are categorical (e.g., spam/not spam).\\n   - Regression: When the labels are continuous (e.g., predicting a house price).\\n\\n6. **Advantages**:\\n   - Useful for making predictions based on known data.\\n   - Can handle complex datasets where human labeling is impractical.\\n\\n7. **Challenges**:\\n   - Requires labeled training data, which can be costly and time-consuming to obtain.\\n   - Overfitting can occur if the model becomes too closely tailored to the training data.\\n\\nIn essence, supervised learning involves teaching the algorithm how to predict output values by mapping input features onto known output labels using a model that is trained with this paired data.', 'conversation_id': 'test-conversation', 'sources': ['ML Course - This is a sample document about machine learning....', 'ML Course - This is a sample document about machine learning....', 'ML Course - This is a sample document about machine learning....', 'ml_basics.txt - Supervised learning is a type of machine learning where the algorithm learns from labeled training d...']}\n",
      "Delete Response: {'message': 'Conversation test-conversation deleted successfully'}\n"
     ]
    }
   ],
   "source": [
    "async def test_chatbot():\n",
    "    print(\"Starting Chat...\")\n",
    "    \n",
    "    conversation_id = \"test-conversation\"\n",
    "    \n",
    "    # First, let's add some test document\n",
    "    test_doc = {\n",
    "        \"content\": \"\"\"Supervised learning is a type of machine learning where the algorithm learns from labeled training data. \n",
    "        In supervised learning, each training example has an input and a corresponding correct output (label). \n",
    "        The algorithm learns to map inputs to outputs based on this training data.\"\"\",\n",
    "        \"metadata\": {\"source\": \"ml_basics.txt\"}\n",
    "    }\n",
    "    \n",
    "    async with httpx.AsyncClient(timeout=60.0) as client:\n",
    "        # Add the document\n",
    "        await client.post(f\"{base_url}/add_document\", json=test_doc)\n",
    "        \n",
    "        # Initial message\n",
    "        initial_message = {\n",
    "            \"query\": \"Hello! What can you do?\",\n",
    "            \"conversation_id\": conversation_id\n",
    "        }\n",
    "        chat_response = await client.post(f\"{base_url}/chat\", json=initial_message)\n",
    "        print(\"Response from chatbot:\", chat_response.json())\n",
    "        \n",
    "        # Follow-up question\n",
    "        follow_up_message = {\n",
    "            \"query\": \"Can you explain supervised learning?\",\n",
    "            \"conversation_id\": conversation_id\n",
    "        }\n",
    "        follow_up_response = await client.post(f\"{base_url}/chat\", json=follow_up_message)\n",
    "        print(\"Follow-up response:\", follow_up_response.json())\n",
    "        \n",
    "        # Delete the conversation\n",
    "        delete_response  = await client.delete(f\"{base_url}/conversations/{conversation_id}\")\n",
    "        print(\"Delete Response:\", delete_response.json())\n",
    "\n",
    "# Running the test using asyncio\n",
    "await test_chatbot()"
   ]
  },
  {
   "cell_type": "code",
   "execution_count": null,
   "metadata": {},
   "outputs": [],
   "source": []
  }
 ],
 "metadata": {
  "kernelspec": {
   "display_name": "torchdl",
   "language": "python",
   "name": "python3"
  },
  "language_info": {
   "codemirror_mode": {
    "name": "ipython",
    "version": 3
   },
   "file_extension": ".py",
   "mimetype": "text/x-python",
   "name": "python",
   "nbconvert_exporter": "python",
   "pygments_lexer": "ipython3",
   "version": "3.10.14"
  }
 },
 "nbformat": 4,
 "nbformat_minor": 2
}
