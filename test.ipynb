{
 "cells": [
  {
   "cell_type": "code",
   "execution_count": 3,
   "metadata": {},
   "outputs": [
    {
     "name": "stdout",
     "output_type": "stream",
     "text": [
      "Adding Document...\n",
      "Response from /add_document: {'message': 'Document added successfully'}\n"
     ]
    }
   ],
   "source": [
    "import httpx\n",
    "import asyncio\n",
    "from tenacity import retry, stop_after_attempt, wait_fixed\n",
    "\n",
    "base_url = \"http://localhost:8000\"\n",
    "\n",
    "@retry(stop=stop_after_attempt(3), wait=wait_fixed(5))\n",
    "async def add_document_test():\n",
    "    async with httpx.AsyncClient(timeout=60.0) as client:\n",
    "        document_data = {\n",
    "            \"content\": \"This is a sample document about machine learning.\",\n",
    "            \"metadata\": {\"source\": \"ML Course\"}\n",
    "        }\n",
    "        response = await client.post(f\"{base_url}/add_document\", json=document_data)\n",
    "        return response.json()\n",
    "\n",
    "async def test_chatbot():\n",
    "    print(\"Adding Document...\")\n",
    "    add_doc_response = await add_document_test()\n",
    "    print(\"Response from /add_document:\", add_doc_response)\n",
    "\n",
    "# Run the test\n",
    "await test_chatbot()\n"
   ]
  },
  {
   "cell_type": "code",
   "execution_count": 21,
   "metadata": {},
   "outputs": [
    {
     "name": "stdout",
     "output_type": "stream",
     "text": [
      "Starting Chat...\n",
      "Response from chatbot: {'answer': 'I can answer questions, have conversations, generate text (like stories or articles), and more. How may I assist you today?', 'conversation_id': 'test-conversation', 'sources': []}\n",
      "Follow-up response: {'answer': 'I don\\'t actually have the capability to think about such a hypothetical scenario or provide an opinion on it because that would require creative writing, which is beyond my programming. However, if we were to speculate hypothetically:\\n\\nOne common explanation for something \"vanishing\" might involve some kind of natural disaster, alien intervention, or even a sci-fi plot where the moon has been concealed by technology or magic.\\n\\nIt\\'s important to note that this is purely speculative and not based on scientific fact.', 'conversation_id': 'test-conversation', 'sources': []}\n",
      "Delete Response: {'detail': \"'Chroma' object has no attribute '_persist_client'\"}\n"
     ]
    }
   ],
   "source": [
    "async def test_chatbot():\n",
    "    print(\"Starting Chat...\")\n",
    "    \n",
    "    conversation_id = \"test-conversation\"\n",
    "    \n",
    "    # First, let's add some test document\n",
    "    test_doc = {\n",
    "        \"content\": \"In the year 2042, humanity had conquered space. Lunar colonies were thriving, and Mars was being terraformed. But one day, the moon vanished. Scientists were baffled. No trace of it was found. Theories ranged from alien abduction to a natural anomaly.You, a young astronomer, were tasked with investigating. Armed with cutting-edge technology, you embarked on a perilous journey to the moon's former orbit. There, you discovered a strange energy field. As you probed deeper, you realized it was a portal to another dimension. Intrigued, you ventured through.On the other side, you found a parallel Earth, eerily similar to your own. But there was one crucial difference: the moon was intact, hanging in the sky. You realized that an unknown force had been siphoning energy from the moon, creating the portal.Your mission became clear: to find a way to return the moon to its rightful place. But as you worked, you discovered a dark secret about the beings behind the energy drain. They were not benevolent.\",\n",
    "        \"metadata\": {\"source\": \"randomstory.txt\"}\n",
    "        }\n",
    "    \n",
    "    async with httpx.AsyncClient(timeout=60.0) as client:\n",
    "        # Add the document\n",
    "        await client.post(f\"{base_url}/add_document\", json=test_doc)\n",
    "        \n",
    "        # Initial message\n",
    "        initial_message = {\n",
    "            \"query\": \"Hello! What can you do?\",\n",
    "            \"conversation_id\": conversation_id\n",
    "        }\n",
    "        chat_response = await client.post(f\"{base_url}/chat\", json=initial_message)\n",
    "        print(\"Response from chatbot:\", chat_response.json())\n",
    "        \n",
    "        # Follow-up question\n",
    "        follow_up_message = {\n",
    "            \"query\": \"What do you think caused the moon to vanish in the first place?\",\n",
    "            \"conversation_id\": conversation_id\n",
    "        }\n",
    "        follow_up_response = await client.post(f\"{base_url}/chat\", json=follow_up_message)\n",
    "        print(\"Follow-up response:\", follow_up_response.json())\n",
    "        \n",
    "        # Delete the conversation\n",
    "        delete_response  = await client.delete(f\"{base_url}/conversations/{conversation_id}\")\n",
    "        print(\"Delete Response:\", delete_response.json())\n",
    "\n",
    "# Running the test using asyncio\n",
    "await test_chatbot()"
   ]
  },
  {
   "cell_type": "code",
   "execution_count": 7,
   "metadata": {},
   "outputs": [
    {
     "name": "stdout",
     "output_type": "stream",
     "text": [
      "Starting document upload and read test...\n",
      "Response from document upload: {'detail': 'Unsupported file extension: '}\n"
     ]
    }
   ],
   "source": [
    "async def test_document_reader():\n",
    "    print(\"Starting document upload and read test...\")\n",
    "\n",
    "    # Define the file path for the document to be uploaded\n",
    "    file_path = \"samples/sample.pptx\"  # Replace with the path to your test document\n",
    "    \n",
    "    async with httpx.AsyncClient(timeout=60.0) as client:\n",
    "        # Open the file in binary mode for upload\n",
    "        with open(file_path, \"rb\") as f:\n",
    "            files = {'file': (file_path, f, 'multipart/form-data')}\n",
    "            \n",
    "            # Upload the document to the API\n",
    "            upload_response = await client.post(f\"{base_url}/read_document\", files=files)\n",
    "            print(\"Response from document upload:\", upload_response.json())\n",
    "await test_document_reader()"
   ]
  },
  {
   "cell_type": "code",
   "execution_count": 15,
   "metadata": {},
   "outputs": [
    {
     "name": "stdout",
     "output_type": "stream",
     "text": [
      "Starting Document Reader Test...\n",
      "Response from document reader: {'text': 'Various Image Segmentation Techniques:\\nDifferent types of Image Segmentation Techniques\\nThresholding technique segmentation\\nHistogram based segmentation\\nRegion based segmentation\\nEdge based segmentation\\nClustering based segmentation\\nMorphological Transforms and\\nTexture based segmentation approaches\\nThresholding technique segmentation\\nSegmentation algorithms based on thresholding approach are suitable for images where there is distinct difference between object and background.\\nMain Goal: divide an image into two distinct regions (object and background) directly based on intensity values and their properties\\nTypes: Global, Variable, Multiple\\n\\nOriginal coins image\\n2)Histogram based segmentation\\nHistogram of an image is a plot between intensity levels. \\nDeep valleys are used to separate different peaks of histogram. \\nHistogram peaks are tall, narrow, symmetric.\\n3) Region based Segmentation\\nThe region-based segmentation methods segments the image into various regions having similar characterizes. \\n\\nTwo Techniques: \\na. Region growing, and\\nb. Region split and merge techniques \\nWatershed \\ntransformation\\n\\n4) Edge-based segmentation \\nEdges are defined as “Sudden and Significant changes in the intensity” of an image. \\nBoundaries demonstrates changes between object in the images. \\nSignificant change in intensity between objects in the images\\nUseful when there are many objects in the images. \\nDifferent than region-based segmentation. Edge-based segmentation completely based on dissimilarities or discontinuity. \\n\\n\\n5) Clustering-based segmentation \\nThe clustering-based techniques segment the image into cluster having pixels with similar   characteristics.\\nMany types of clustering. \\nSelect the best of them that proven success rate with the image processing. \\n7) Texture based segmentation approaches\\nSegmentation based on texture characteristics consists of dividing an image into different     regions based on similarity in texture features. \\n Texture = repeated pattern of information\\nTexture image = appearance, structure, and arrangement of the parts of an object within the image. \\n6)Morphological Transforms based Segmentation \\nMorphology is study of shapes.\\nIt has a set of image processing operations that process images based on shapes and not based on pixel intensities. \\nRemember: shapes segmentations = Morphological transforms-based segmentation\\nBasic Morphological Filtering:\\nErosion\\nDilation\\nOpening\\nClosing\\nWhite Tophat\\nBlack Tophat\\nSkeletonize \\nConvex Hull\\n\\nDifferent types of Morphological Filtering\\nSkeleton and Convex hull method: \\nThe convex skull of a polygon is the largest convex polygon contained inside it. It can be found in polynomial time, but the exponent of the algorithm is high.\\nThinning is used to reduce each connected component in a binary image to a single-pixel wide skeleton. It is important to note that this is performed on binary images only.\\nInteraction with 3D images\\n3D image processing is the visualization, processing, and analysis of 3D image data through geometric transformations, filtering, image segmentation, and other morphological operations.\\n3D kidney image\\n\\xa0A slice (2D plane) of the 3D data Kidney image\\n# Animation frames from 3D images \\n3D animation creates moving images in a 3D environment, giving digital objects the illusion of motion through 3D space.\\nTensor Structure computation  of 3D images \\nIn the context of volumetric (3D) image analysis, a structure tensor is a 3-by-3 matrix which summarizes orientation in a certain neighborhood around a certain point.\\nLet’s Go to Exercise ……'}\n"
     ]
    }
   ],
   "source": [
    "# test_document_reader.py\n",
    "import os\n",
    "import asyncio\n",
    "import httpx\n",
    "\n",
    "base_url = \"http://127.0.0.1:8000\"\n",
    "\n",
    "async def test_document_reader():\n",
    "    print(\"Starting Document Reader Test...\")\n",
    "\n",
    "    # Define the path to a test document\n",
    "    test_file_path = \"samples/sample.pptx\"\n",
    "\n",
    "    # Ensure the test document exists\n",
    "    if not os.path.exists(test_file_path):\n",
    "        raise FileNotFoundError(f\"The test file {test_file_path} does not exist.\")\n",
    "\n",
    "    async with httpx.AsyncClient(timeout=60.0) as client:\n",
    "        # Upload the document and extract text\n",
    "        with open(test_file_path, \"rb\") as file:\n",
    "            files = {\"file\": (os.path.basename(test_file_path), file)}\n",
    "            response = await client.post(f\"{base_url}/extract-text/\", files=files)\n",
    "        \n",
    "        print(\"Response from document reader:\", response.json())\n",
    "\n",
    "await test_document_reader()"
   ]
  },
  {
   "cell_type": "code",
   "execution_count": 6,
   "metadata": {},
   "outputs": [
    {
     "name": "stdout",
     "output_type": "stream",
     "text": [
      "{'message': 'Conversation 12345 deleted successfully'}\n"
     ]
    }
   ],
   "source": [
    "import requests\n",
    "\n",
    "url = \"http://127.0.0.1:8000/conversations/12345\"\n",
    "payload = {\n",
    "    \"conversation_id\": \"12345\",\n",
    "    \"query\": \"Where is it located?\"\n",
    "}\n",
    "\n",
    "response = requests.delete(url)\n",
    "print(response.json())\n"
   ]
  },
  {
   "cell_type": "code",
   "execution_count": 2,
   "metadata": {},
   "outputs": [
    {
     "name": "stdout",
     "output_type": "stream",
     "text": [
      "{'answer': 'What are some popular tourist attractions in Paris, France?', 'conversation_id': '12345', 'sources': []}\n"
     ]
    }
   ],
   "source": [
    "def format_chat_history(chat_history):\n",
    "    formatted_history = []\n",
    "    for message in chat_history:\n",
    "        if isinstance(message, HumanMessage):\n",
    "            formatted_history.append(f\"<|im_start|>user\\n{message.content}<|im_end|>\")\n",
    "        elif isinstance(message, AIMessage):\n",
    "            formatted_history.append(f\"<|im_start|>assistant\\n{message.content}<|im_end|>\")\n",
    "    return \"\\n\".join(formatted_history)\n",
    "\n",
    "def get_response_from_chain(chain, query):\n",
    "    try:\n",
    "        # Format the query if needed\n",
    "        formatted_query = query\n",
    "        if not query.startswith(\"<|im_start|>\"):\n",
    "            formatted_query = f\"<|im_start|>user\\n{query}<|im_end|>\"\n",
    "            \n",
    "        response = chain.invoke({\"question\": formatted_query})\n",
    "        answer = response.get(\"answer\", \"I couldn't find an answer.\")\n",
    "        \n",
    "        # Ensure the answer has the proper tokens\n",
    "        if not answer.startswith(\"<|im_start|>\"):\n",
    "            answer = f\"<|im_start|>assistant\\n{answer}<|im_end|>\"\n",
    "            \n",
    "        source_documents = response.get(\"source_documents\", [])\n",
    "        return answer, source_documents\n",
    "    except Exception as e:\n",
    "        print(f\"Error in get_response_from_chain: {str(e)}\")\n",
    "        return \"<|im_start|>assistant\\nI encountered an error while processing your request.<|im_end|>\", []\n"
   ]
  },
  {
   "cell_type": "code",
   "execution_count": 19,
   "metadata": {},
   "outputs": [
    {
     "name": "stdout",
     "output_type": "stream",
     "text": [
      "Testing Quiz Generation...\n",
      "\n",
      "API Response Status: 200\n",
      "\n",
      "Generated Questions:\n",
      "\n",
      "Q1: What is Python?\n",
      "Options: ['A programming language', 'An operating system', 'A web browser', 'A database']\n",
      "Answer: A programming language\n",
      "\n",
      "Q2: Who created Python?\n",
      "Options: ['Guido van Rossum', 'Tim Berners-Lee', 'Linus Torvalds', 'Bill Gates']\n",
      "Answer: Guido van Rossum\n",
      "\n",
      "Q3: What does Python support?\n",
      "Options: ['Procedural programming only', 'Object-oriented programming only', 'Functional programming only', 'Multiple paradigms including procedural, object-oriented, and functional programming']\n",
      "Answer: Multiple paradigms including procedural, object-oriented, and functional programming\n",
      "\n",
      "Q4: When was Python created?\n",
      "Options: ['1980', '1991', '2000', '2010']\n",
      "Answer: 1991\n",
      "\n",
      "Q5: What does the name 'Python' mean in English?\n",
      "Options: ['It means snake in Greek', 'It means nothing in English', 'It means monkey in Spanish', 'It is named after a British actor']\n",
      "Answer: It means snake in Greek\n"
     ]
    }
   ],
   "source": [
    "import asyncio\n",
    "import httpx\n",
    "\n",
    "async def test_quiz_generation():\n",
    "    print(\"Testing Quiz Generation...\")\n",
    "    \n",
    "    # Simple test document\n",
    "    test_doc = {\n",
    "        \"content\": \"Python is a popular programming language. It was created by Guido van Rossum in 1991. Python is known for its simple syntax and readability. Python supports multiple programming paradigms including procedural, object-oriented, and functional programming.\",\n",
    "        \"metadata\": {\n",
    "            \"source\": \"test.txt\",\n",
    "            \"conversation_id\": \"test-convo\"\n",
    "        }\n",
    "    }\n",
    "    \n",
    "    async with httpx.AsyncClient(timeout=30.0) as client:\n",
    "        try:\n",
    "            # Generate quiz\n",
    "            response = await client.post(\"http://localhost:8000/generate_quiz\", json=test_doc)\n",
    "            print(\"\\nAPI Response Status:\", response.status_code)\n",
    "            \n",
    "            if response.status_code == 200:\n",
    "                quiz_data = response.json()\n",
    "                print(\"\\nGenerated Questions:\")\n",
    "                for i, q in enumerate(quiz_data[\"quiz\"], 1):\n",
    "                    print(f\"\\nQ{i}: {q['question']}\")\n",
    "                    print(\"Options:\", q['options'])\n",
    "                    print(\"Answer:\", q['correct_option'])\n",
    "            else:\n",
    "                print(\"Error response:\", response.text)\n",
    "        except Exception as e:\n",
    "            print(f\"Error during test: {str(e)}\")\n",
    "\n",
    "await test_quiz_generation()"
   ]
  },
  {
   "cell_type": "code",
   "execution_count": 20,
   "metadata": {},
   "outputs": [
    {
     "name": "stdout",
     "output_type": "stream",
     "text": [
      "Testing Summarization...\n",
      "Connecting to: http://localhost:8000/summarize\n",
      "Server connection status: 404\n",
      "\n",
      "API Response Status: 200\n",
      "\n",
      "Generated Summary:\n",
      "The content describes how Artificial Intelligence (AI) is transforming multiple sectors. Key points include:\n",
      "\n",
      "1. AI's broad impact across industries and daily life.\n",
      "2. Machine Learning as an enabling technology, capable of learning from data without explicit programming.\n",
      "3. Deep Learning, a specialized form of ML using neural networks for complex pattern analysis.\n",
      "4. Natural Language Processing (NLP) allowing machines to understand human language for applications like chatbots and translation.\n",
      "5. Computer Vision enabling high-level understanding from visual inputs in fields like facial recognition and autonomous driving.\n",
      "6. The importance of AI ethics in addressing issues related to bias, privacy, and societal impact.\n",
      "7. Anticipated future advancements in healthcare, finance, education, and research, promising improved efficiency and quality of life through AI applications.\n"
     ]
    }
   ],
   "source": [
    "import asyncio\n",
    "import httpx\n",
    "import json\n",
    "\n",
    "async def test_summarization():\n",
    "    print(\"Testing Summarization...\")\n",
    "    \n",
    "    # Define base URL\n",
    "    base_url = \"http://localhost:8000\"\n",
    "    \n",
    "    test_doc = {\n",
    "        \"content\": \"\"\"\n",
    "        Artificial Intelligence (AI) is revolutionizing various industries and aspects of daily life. \n",
    "        Machine Learning, a subset of AI, enables systems to learn and improve from experience without being explicitly programmed. \n",
    "        Deep Learning, a more advanced form of Machine Learning, uses neural networks with many layers to analyze complex patterns in data. \n",
    "        Natural Language Processing (NLP) allows machines to understand, interpret, and generate human language, powering applications like chatbots and language translation services. \n",
    "        Computer Vision enables machines to gain high-level understanding from digital images or videos, used in facial recognition and autonomous vehicles. \n",
    "        AI ethics is an important consideration, addressing issues like bias in AI systems, privacy concerns, and the societal impact of AI technologies. \n",
    "        The future of AI promises further advancements in areas such as healthcare, finance, education, and scientific research, potentially leading to significant improvements in efficiency and quality of life.\n",
    "        \"\"\",\n",
    "        \"metadata\": {\n",
    "            \"source\": \"ai_overview.txt\"\n",
    "        }\n",
    "    }\n",
    "    \n",
    "    print(f\"Connecting to: {base_url}/summarize\")\n",
    "    \n",
    "    async with httpx.AsyncClient(timeout=120.0) as client:\n",
    "        try:\n",
    "            # Test server connection first\n",
    "            health_check = await client.get(f\"{base_url}/\")\n",
    "            print(f\"Server connection status: {health_check.status_code}\")\n",
    "            \n",
    "            # Generate summary\n",
    "            response = await client.post(f\"{base_url}/summarize\", json=test_doc)\n",
    "            print(\"\\nAPI Response Status:\", response.status_code)\n",
    "            \n",
    "            if response.status_code == 200:\n",
    "                summary_data = response.json()\n",
    "                \n",
    "                print(\"\\nGenerated Summary:\")\n",
    "                if \"summary\" in summary_data:\n",
    "                    print(summary_data[\"summary\"])\n",
    "                else:\n",
    "                    print(\"Unexpected response format:\", json.dumps(summary_data, indent=2))\n",
    "            else:\n",
    "                print(\"Error response:\", response.text)\n",
    "                \n",
    "        except httpx.ConnectError:\n",
    "            print(f\"Could not connect to server at {base_url}\")\n",
    "            print(\"Please make sure the FastAPI server is running on port 8000\")\n",
    "        except Exception as e:\n",
    "            print(f\"Error during test: {str(e)}\")\n",
    "            raise\n",
    "\n",
    "await test_summarization()"
   ]
  },
  {
   "cell_type": "code",
   "execution_count": null,
   "metadata": {},
   "outputs": [],
   "source": []
  }
 ],
 "metadata": {
  "kernelspec": {
   "display_name": "torchdl",
   "language": "python",
   "name": "python3"
  },
  "language_info": {
   "codemirror_mode": {
    "name": "ipython",
    "version": 3
   },
   "file_extension": ".py",
   "mimetype": "text/x-python",
   "name": "python",
   "nbconvert_exporter": "python",
   "pygments_lexer": "ipython3",
   "version": "3.10.14"
  }
 },
 "nbformat": 4,
 "nbformat_minor": 2
}
