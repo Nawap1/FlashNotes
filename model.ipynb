{
 "cells": [
  {
   "cell_type": "code",
   "execution_count": 2,
   "metadata": {},
   "outputs": [],
   "source": [
    "from langchain_community.llms import Ollama\n",
    "from langchain_core.callbacks import CallbackManager, StreamingStdOutCallbackHandler\n",
    "from langchain_core.prompts import ChatPromptTemplate, PromptTemplate\n",
    "from langchain.chains import LLMChain\n",
    "from langchain.text_splitter import TokenTextSplitter\n",
    "from langchain.chains.summarize import load_summarize_chain\n",
    "from langchain.schema import Document"
   ]
  },
  {
   "cell_type": "code",
   "execution_count": 4,
   "metadata": {},
   "outputs": [
    {
     "name": "stderr",
     "output_type": "stream",
     "text": [
      "C:\\Users\\Nawap Bastola\\AppData\\Local\\Temp\\ipykernel_25484\\446326387.py:5: DeprecationWarning: callback_manager is deprecated. Please use callbacks instead.\n",
      "  llm = initialize_llm()\n"
     ]
    },
    {
     "name": "stdout",
     "output_type": "stream",
     "text": [
      "Testing LLM with prompt:\n",
      "<|im_start|>system\n",
      "You are a helpful AI assistant that provides clear and concise information.<|im_end|>\n",
      "<|im_start|>user\n",
      "Write step by step the answer to 2x+3=7.<|im_end|>\n",
      "<|im_start|>assistant\n",
      "\n",
      "To solve the equation \\(2x + 3 = 7\\), follow these steps:\n",
      "\n",
      "1. **Isolate the term with the variable**: The first step is to get all terms with \\(x\\) on one side of the equation and numbers on the other side. In this case, we need to move the constant to the right side.\n",
      "\n",
      "   Start by subtracting 3 from both sides of the equation:\n",
      "   \\[\n",
      "   2x + 3 - 3 = 7 - 3\n",
      "   \\]\n",
      "   Simplifying both sides gives:\n",
      "   \\[\n",
      "   2x = 4\n",
      "   \\]\n",
      "\n",
      "2. **Solve for \\(x\\)**: Now, we need to isolate \\(x\\) by dividing both sides of the equation by the coefficient of \\(x\\), which is 2.\n",
      "\n",
      "   Divide both sides by 2:\n",
      "   \\[\n",
      "   \\frac{2x}{2} = \\frac{4}{2}\n",
      "   \\]\n",
      "   Simplifying gives:\n",
      "   \\[\n",
      "   x = 2\n",
      "   \\]\n",
      "\n",
      "So, the solution to the equation \\(2x + 3 = 7\\) is \\(x = 2\\)."
     ]
    }
   ],
   "source": [
    "def initialize_llm():\n",
    "    callback_manager = CallbackManager([StreamingStdOutCallbackHandler()])\n",
    "    return Ollama(base_url=\"http://localhost:11434\", model=\"qwen.5\", callback_manager=callback_manager)\n",
    "\n",
    "llm = initialize_llm()\n",
    "\n",
    "system_prompt = \"You are a helpful AI assistant that provides clear and concise information.\"\n",
    "user_prompt = \"Write step by step the answer to 2x+3=7.\"\n",
    "\n",
    "# Construct the full prompt using the Hugging Face format\n",
    "full_prompt = f'''<|im_start|>system\n",
    "{system_prompt}<|im_end|>\n",
    "<|im_start|>user\n",
    "{user_prompt}<|im_end|>\n",
    "<|im_start|>assistant\n",
    "'''\n",
    "\n",
    "# Run the test\n",
    "print(\"Testing LLM with prompt:\")\n",
    "print(full_prompt)\n",
    "response = llm(full_prompt)"
   ]
  },
  {
   "cell_type": "code",
   "execution_count": 5,
   "metadata": {},
   "outputs": [],
   "source": [
    "from load import *"
   ]
  },
  {
   "cell_type": "code",
   "execution_count": 17,
   "metadata": {},
   "outputs": [
    {
     "name": "stdout",
     "output_type": "stream",
     "text": [
      "To summarize from the provided text, let's break down the essential questions:\n",
      "\n",
      "1. **What are various types of Image Segmentation Techniques?**\n",
      "   - Answer: Various image segmentation techniques include thresholding technique segmentation, histogram based segmentation, region based segmentation, edge-based segmentation, clustering based segmentation, morphological transforms and texture based segmentation approaches.\n",
      "   - Key supporting ideas:\n",
      "     - Different types of segmentation techniques serve different purposes for various applications (e.g., clear distinction between object and background).\n",
      "     - Thresholding is suitable for images where objects are distinct, while other techniques like region or edge-based methods are more appropriate for similar scenes.\n",
      "\n",
      "2. **When would you use a specific type of segmentation technique?**\n",
      "   - Answer: The primary reason to use a particular type of image segmentation technique depends on the characteristics and nature of the input data.\n",
      "     - Global based segmentation is useful when there is distinct difference between object and background (e.g., identifying different types of objects in an image).\n",
      "     - Region-based segmentation is applicable for images where similar regions are needed, e.g., dividing a complex image into smaller regions to highlight specific areas (e.g., detecting edges or shapes in images).\n",
      "     - Edge-based segmentation will be used when there are many objects that need to be segmented, and each object's characteristics must be clearly defined.\n",
      "   - Key supporting ideas:\n",
      "     - Global based methods are ideal for clear distinction between different types of objects.\n",
      "     - Region-based methods are best suited for dividing the image into smaller regions.\n",
      "     - Edge-based segmentation is suitable when there are many objects with similar shapes that need to be segmented separately.\n",
      "\n",
      "3. **What are some characteristics of an image for use in different type of segmentation techniques?**\n",
      "   - Answer: The types and properties of images used in different segmenting techniques include:\n",
      "     - Global based methods benefit from differences between object and background.\n",
      "     - Region-based segmentation focuses on similar regions within the image, which can be useful when you need to highlight specific areas (e.g., edges or shapes).\n",
      "     - Edge-based segmentation is best suited for images where objects have similar shapes that need to be separated into different regions.\n",
      "\n",
      "4. **What are some methods used in morphological transforms and texture based segmentation?**\n",
      "   - Answer: Morphological transforms and texture based segmentation techniques include:\n",
      "     - Erosion, Dilation, Opening, Closing, White Tophat, Black Tophat, Skeletonize, Convex Hull\n",
      "     - Erosions are used for reducing connected components in a binary image to a single-pixel wide skeleton.\n",
      "     - Dilation is used to fill areas that were previously completely empty (e.g., creating new edges).\n",
      "     - Opening is used to cut through the connected component of an image.\n",
      "     - Closing is used to close the holes left by erosion or dilation.\n",
      "     - White Tophat and Black Tophat are used for identifying peaks in an image.\n",
      "     - Skeletonize creates individual pixels that represent regions inside a polygon.\n",
      "     - Convex Hull is used to create convex polygons around connected components.\n",
      "\n",
      "5. **What are some implications of using different segmenting techniques?**\n",
      "   - Answer: The main implication of using various segmentation techniques is the ability to distinguish and isolate specific areas within images, which can be useful in applications such as image recognition, object detection, or scene analysis.\n",
      "     - Global based methods are more effective for clear distinction between object types.\n",
      "     - Region-based methods facilitate dividing an image into smaller regions.\n",
      "     - Edge-based segmentation provides a way to separate objects with similar shapes.\n",
      "\n",
      "This summary encapsulates the main points and core meaning of the text by addressing each question systematically, highlighting key supporting ideas, and revealing the author's purpose or perspective."
     ]
    }
   ],
   "source": [
    "text = read_file(\"samples/sample.pptx\")\n",
    "\n",
    "user_prompt = f\"\"\"\n",
    "Write a descriptive summary from the text usimg the following steps:\n",
    "1.) Analyze the input text and generate 5 essential questions that, when answered, capture the main points and core meaning of the text. \n",
    "2.) When formulating your questions: \n",
    "a. Address the central theme or argument \n",
    "b. Identify key supporting ideas \n",
    "c. Highlight important facts or evidence \n",
    "d. Reveal the author's purpose or perspective \n",
    "e. Explore any significant implications or conclusions. \n",
    "3.) Answer all of your generated questions one-by-one in detail.\n",
    "Text:\n",
    "{text}\"\"\"\n",
    "full_prompt = f'''<|im_start|>system\n",
    "{system_prompt}<|im_end|>\n",
    "<|im_start|>user\n",
    "{user_prompt}<|im_end|>\n",
    "<|im_start|>assistant\n",
    "'''\n",
    "response = llm(full_prompt)\n"
   ]
  },
  {
   "cell_type": "code",
   "execution_count": 8,
   "metadata": {},
   "outputs": [
    {
     "data": {
      "text/plain": [
       "'<|im_start|>system\\nYou are a helpful AI assistant that provides clear and concise information.<|im_end|>\\n<|im_start|>user\\nWrite step by step the answer to 2x+3=7.<|im_end|>\\n<|im_start|>assistant\\n'"
      ]
     },
     "execution_count": 8,
     "metadata": {},
     "output_type": "execute_result"
    }
   ],
   "source": [
    "full_prompt"
   ]
  },
  {
   "cell_type": "code",
   "execution_count": null,
   "metadata": {},
   "outputs": [],
   "source": []
  }
 ],
 "metadata": {
  "kernelspec": {
   "display_name": "torchdl",
   "language": "python",
   "name": "python3"
  },
  "language_info": {
   "codemirror_mode": {
    "name": "ipython",
    "version": 3
   },
   "file_extension": ".py",
   "mimetype": "text/x-python",
   "name": "python",
   "nbconvert_exporter": "python",
   "pygments_lexer": "ipython3",
   "version": "3.10.14"
  }
 },
 "nbformat": 4,
 "nbformat_minor": 2
}
