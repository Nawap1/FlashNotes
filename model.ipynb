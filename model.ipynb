{
 "cells": [
  {
   "cell_type": "code",
   "execution_count": 2,
   "metadata": {},
   "outputs": [],
   "source": [
    "from langchain_community.llms import Ollama\n",
    "from langchain_core.callbacks import CallbackManager, StreamingStdOutCallbackHandler\n",
    "from langchain_core.prompts import ChatPromptTemplate, PromptTemplate\n",
    "from langchain.chains import LLMChain\n",
    "from langchain.text_splitter import TokenTextSplitter\n",
    "from langchain.chains.summarize import load_summarize_chain\n",
    "from langchain.schema import Document"
   ]
  },
  {
   "cell_type": "code",
   "execution_count": 18,
   "metadata": {},
   "outputs": [
    {
     "name": "stderr",
     "output_type": "stream",
     "text": [
      "C:\\Users\\Nawap Bastola\\AppData\\Local\\Temp\\ipykernel_25484\\617962864.py:5: DeprecationWarning: callback_manager is deprecated. Please use callbacks instead.\n",
      "  llm = initialize_llm()\n"
     ]
    },
    {
     "name": "stdout",
     "output_type": "stream",
     "text": [
      "Testing LLM with prompt:\n",
      "<|im_start|>system\n",
      "You are a helpful AI assistant that provides clear and concise information.<|im_end|>\n",
      "<|im_start|>user\n",
      "Write step by step the answer to 2x+3=7.<|im_end|>\n",
      "<|im_start|>assistant\n",
      "\n",
      "Sure, here is the step-by-step solution for the equation \\(2x + 3 = 7\\):\n",
      "\n",
      "1. **Subtract 3 from both sides** to isolate the term with the variable:\n",
      "   \\[\n",
      "   2x + 3 - 3 = 7 - 3\n",
      "   \\]\n",
      "   Simplifying, we get:\n",
      "   \\[\n",
      "   2x = 4\n",
      "   \\]\n",
      "\n",
      "2. **Divide both sides by 2** to solve for \\(x\\):\n",
      "   \\[\n",
      "   \\frac{2x}{2} = \\frac{4}{2}\n",
      "   \\]\n",
      "   Simplifying, we get:\n",
      "   \\[\n",
      "   x = 2\n",
      "   \\]\n",
      "\n",
      "So, the solution is \\(x = 2\\)."
     ]
    }
   ],
   "source": [
    "def initialize_llm():\n",
    "    callback_manager = CallbackManager([StreamingStdOutCallbackHandler()])\n",
    "    return Ollama(base_url=\"http://localhost:11434\", model=\"qwen3\", callback_manager=callback_manager)\n",
    "\n",
    "llm = initialize_llm()\n",
    "\n",
    "system_prompt = \"You are a helpful AI assistant that provides clear and concise information.\"\n",
    "user_prompt = \"Write step by step the answer to 2x+3=7.\"\n",
    "\n",
    "# Construct the full prompt using the Hugging Face format\n",
    "full_prompt = f'''<|im_start|>system\n",
    "{system_prompt}<|im_end|>\n",
    "<|im_start|>user\n",
    "{user_prompt}<|im_end|>\n",
    "<|im_start|>assistant\n",
    "'''\n",
    "\n",
    "# Run the test\n",
    "print(\"Testing LLM with prompt:\")\n",
    "print(full_prompt)\n",
    "response = llm(full_prompt)"
   ]
  },
  {
   "cell_type": "code",
   "execution_count": 5,
   "metadata": {},
   "outputs": [],
   "source": [
    "from load import *"
   ]
  },
  {
   "cell_type": "code",
   "execution_count": 20,
   "metadata": {},
   "outputs": [
    {
     "name": "stderr",
     "output_type": "stream",
     "text": [
      "C:\\Users\\Nawap Bastola\\AppData\\Local\\Temp\\ipykernel_25484\\3917530162.py:5: DeprecationWarning: callback_manager is deprecated. Please use callbacks instead.\n",
      "  llm = initialize_llm()\n"
     ]
    },
    {
     "name": "stdout",
     "output_type": "stream",
     "text": [
      "### Summary: Essential Questions\n",
      "\n",
      "1. **Central Theme or Argument**:\n",
      "   - What are the various types of Image Segmentation Techniques discussed in this text?\n",
      "\n",
      "2. **Key Supporting Ideas**:\n",
      "   - How does Thresholding technique segmentation work and what is its main goal?\n",
      "   - What is a Histogram, and how do different techniques use it for image segmentation?\n",
      "   - What are Region-based segmentation methods and their two primary types? \n",
      "   - How does Edge-based segmentation differ from region-based segmentation, and when is it particularly useful?\n",
      "\n",
      "3. **Important Facts or Evidence**:\n",
      "   - Why is the thresholding technique suitable for images with distinct differences between object and background?\n",
      "   - What characteristics do Histogram peaks have in image processing?\n",
      "   - What are the two primary techniques of Region based Segmentation (region growing and region split-merge)?\n",
      "   - How does Edge-based segmentation handle significant changes in intensity, making it useful in images containing many objects?\n",
      "   - What is clustering-based segmentation, and why might multiple types be considered?\n",
      "\n",
      "4. **Author's Purpose or Perspective**:\n",
      "   - Why are morphological transforms and texture-based segmentation approaches covered in the text?\n",
      "   - How does morphology relate to image processing based on shapes rather than pixel intensities?\n",
      "   - What distinguishes different types of 3D image processing, including how it relates to skeletonizing?\n",
      "\n",
      "5. **Significant Implications or Conclusions**:\n",
      "   - In what ways can understanding these segmentation techniques enhance various applications in computer vision and image analysis?\n",
      "   - How do the differences between region-based, edge-based, and clustering-based segmentation methods impact their applicability to specific types of images or data sets?\n",
      "\n",
      "### Detailed Answers\n",
      "\n",
      "1. **Central Theme or Argument**\n",
      "   The text discusses different Image Segmentation Techniques including thresholding, histogram based, region based, edge based, clustering based, morphological transforms, and texture based approaches.\n",
      "\n",
      "2. **Key Supporting Ideas**\n",
      "\n",
      "   - **Thresholding technique segmentation**:\n",
      "     - Main Goal: To divide an image into two distinct regions (object and background) directly based on intensity values.\n",
      "     - Types: Global, Variable, Multiple\n",
      "     - Application: Suitable for images where there is a clear difference between object and background.\n",
      "\n",
      "   - **Histogram based segmentation**: \n",
      "     - Histogram of an image plots the intensities and their frequencies. Deep valleys are used to separate different peaks of histogram.\n",
      "     - Characteristics: Peaks are tall, narrow, symmetric, etc.\n",
      "   \n",
      "   - **Region based Segmentation**:\n",
      "     - Techniques include Region growing and region split-merge. Watershed transformation is also mentioned for segmentation purposes.\n",
      "\n",
      "   - **Edge-based segmentation**: \n",
      "     - Definition: Sudden changes in intensity indicate edges between objects. Useful when there are many objects present in the image.\n",
      "     - Difference from Region-based segmentation, which focuses on similarities within regions rather than dissimilarities between them.\n",
      "\n",
      "   - **Clustering based segmentation**:\n",
      "     - Segmenting images into clusters of pixels with similar characteristics. Various types of clustering approaches exist; select the best one proven successful for specific applications.\n",
      "\n",
      "   - **Texture based segmentation**: \n",
      "     - Dividing an image into different regions based on similarity in texture features, defined as repeated patterns within the image.\n",
      "   \n",
      "   - **Morphological transforms and texture based segmentation**:\n",
      "     - Morphology studies shapes and processes images using these shapes rather than pixel intensities. Key operations include Erosion, Dilation, Opening, Closing, White Top Hat, Black Top Hat, Skeletonization, etc.\n",
      "\n",
      "3. **Important Facts or Evidence**\n",
      "\n",
      "   - For the thresholding technique, distinct differences between object and background are necessary for successful segmentation.\n",
      "   - Histogram peaks have specific characteristics: tall, narrow, symmetric, etc., which help in identifying regions of interest within an image.\n",
      "   - Region growing involves expanding initial seeds until they cover entire objects. Split-merge techniques involve dividing regions into smaller parts or merging them to achieve uniform cluster sizes.\n",
      "\n",
      "4. **Author's Purpose or Perspective**\n",
      "\n",
      "   - The text aims to provide comprehensive coverage of various Image Segmentation Techniques, highlighting their strengths and applicability.\n",
      "   - It emphasizes the significance of each technique in specific scenarios, contributing to improved image processing and analysis capabilities.\n",
      "\n",
      "5. **Significant Implications or Conclusions**\n",
      "\n",
      "   - Understanding these segmentation techniques can lead to better applications across fields such as computer vision, medical imaging, and more. \n",
      "   - The distinctions between region-based, edge-based, and clustering-based methods impact their effectiveness in different contexts.\n",
      "   - Morphological transforms and texture-based segmentation offer powerful tools for shape-based image analysis and processing.\n",
      "\n",
      "### Exercise\n",
      "- **3D Image Processing**:\n",
      "  - How does skeletonization work in the context of morphological filtering?\n",
      "  - What is a structure tensor, and how does it summarize orientation information in 3D images?\n",
      "\n",
      "- **3D Kidney Image Example**:\n",
      "  - Why is understanding 2D slices of a 3D kidney image important for analysis?"
     ]
    }
   ],
   "source": [
    "def initialize_llm():\n",
    "    callback_manager = CallbackManager([StreamingStdOutCallbackHandler()])\n",
    "    return Ollama(base_url=\"http://localhost:11434\", model=\"qwen3\", callback_manager=callback_manager)\n",
    "\n",
    "llm = initialize_llm()\n",
    "text = read_file(\"samples/sample.pptx\")\n",
    "system_prompt = \"You are a note taking AI assistant that takes proper notes from the given reference text.\"\n",
    "\n",
    "user_prompt = f\"\"\"\n",
    "Summarize the text using following text:\n",
    "1.) Analyze the input text and generate 5 essential questions that, when answered, capture the main points and core meaning of the text. \n",
    "2.) When formulating your questions: \n",
    "a. Address the central theme or argument \n",
    "b. Identify key supporting ideas \n",
    "c. Highlight important facts or evidence \n",
    "d. Reveal the author's purpose or perspective \n",
    "e. Explore any significant implications or conclusions. \n",
    "3.) Answer all of your generated questions one-by-one in detail.\n",
    "Text:\n",
    "{text}\"\"\"\n",
    "full_prompt = f'''<|im_start|>system\n",
    "{system_prompt}<|im_end|>\n",
    "<|im_start|>user\n",
    "{user_prompt}<|im_end|>\n",
    "<|im_start|>assistant\n",
    "'''\n",
    "response = llm(full_prompt)\n"
   ]
  },
  {
   "cell_type": "code",
   "execution_count": 8,
   "metadata": {},
   "outputs": [
    {
     "data": {
      "text/plain": [
       "'<|im_start|>system\\nYou are a helpful AI assistant that provides clear and concise information.<|im_end|>\\n<|im_start|>user\\nWrite step by step the answer to 2x+3=7.<|im_end|>\\n<|im_start|>assistant\\n'"
      ]
     },
     "execution_count": 8,
     "metadata": {},
     "output_type": "execute_result"
    }
   ],
   "source": [
    "full_prompt"
   ]
  },
  {
   "cell_type": "code",
   "execution_count": null,
   "metadata": {},
   "outputs": [],
   "source": []
  }
 ],
 "metadata": {
  "kernelspec": {
   "display_name": "torchdl",
   "language": "python",
   "name": "python3"
  },
  "language_info": {
   "codemirror_mode": {
    "name": "ipython",
    "version": 3
   },
   "file_extension": ".py",
   "mimetype": "text/x-python",
   "name": "python",
   "nbconvert_exporter": "python",
   "pygments_lexer": "ipython3",
   "version": "3.10.14"
  }
 },
 "nbformat": 4,
 "nbformat_minor": 2
}
