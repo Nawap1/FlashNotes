{
 "cells": [
  {
   "cell_type": "code",
   "execution_count": 1,
   "metadata": {},
   "outputs": [],
   "source": [
    "from langchain_community.llms import Ollama\n",
    "from langchain_core.callbacks import CallbackManager, StreamingStdOutCallbackHandler\n",
    "from langchain_core.prompts import ChatPromptTemplate, PromptTemplate\n",
    "from langchain.chains import LLMChain\n",
    "from langchain.text_splitter import TokenTextSplitter\n",
    "from langchain.chains.summarize import load_summarize_chain\n",
    "from langchain.schema import Document"
   ]
  },
  {
   "cell_type": "code",
   "execution_count": 18,
   "metadata": {},
   "outputs": [
    {
     "name": "stderr",
     "output_type": "stream",
     "text": [
      "C:\\Users\\Nawap Bastola\\AppData\\Local\\Temp\\ipykernel_25484\\617962864.py:5: DeprecationWarning: callback_manager is deprecated. Please use callbacks instead.\n",
      "  llm = initialize_llm()\n"
     ]
    },
    {
     "name": "stdout",
     "output_type": "stream",
     "text": [
      "Testing LLM with prompt:\n",
      "<|im_start|>system\n",
      "You are a helpful AI assistant that provides clear and concise information.<|im_end|>\n",
      "<|im_start|>user\n",
      "Write step by step the answer to 2x+3=7.<|im_end|>\n",
      "<|im_start|>assistant\n",
      "\n",
      "Sure, here is the step-by-step solution for the equation \\(2x + 3 = 7\\):\n",
      "\n",
      "1. **Subtract 3 from both sides** to isolate the term with the variable:\n",
      "   \\[\n",
      "   2x + 3 - 3 = 7 - 3\n",
      "   \\]\n",
      "   Simplifying, we get:\n",
      "   \\[\n",
      "   2x = 4\n",
      "   \\]\n",
      "\n",
      "2. **Divide both sides by 2** to solve for \\(x\\):\n",
      "   \\[\n",
      "   \\frac{2x}{2} = \\frac{4}{2}\n",
      "   \\]\n",
      "   Simplifying, we get:\n",
      "   \\[\n",
      "   x = 2\n",
      "   \\]\n",
      "\n",
      "So, the solution is \\(x = 2\\)."
     ]
    }
   ],
   "source": [
    "def initialize_llm():\n",
    "    callback_manager = CallbackManager([StreamingStdOutCallbackHandler()])\n",
    "    return Ollama(base_url=\"http://localhost:11434\", model=\"qwen3\", callback_manager=callback_manager)\n",
    "\n",
    "llm = initialize_llm()\n",
    "\n",
    "system_prompt = \"You are a helpful AI assistant that provides clear and concise information.\"\n",
    "user_prompt = \"Write step by step the answer to 2x+3=7.\"\n",
    "\n",
    "# Construct the full prompt using the Hugging Face format\n",
    "full_prompt = f'''<|im_start|>system\n",
    "{system_prompt}<|im_end|>\n",
    "<|im_start|>user\n",
    "{user_prompt}<|im_end|>\n",
    "<|im_start|>assistant\n",
    "'''\n",
    "\n",
    "# Run the test\n",
    "print(\"Testing LLM with prompt:\")\n",
    "print(full_prompt)\n",
    "response = llm(full_prompt)"
   ]
  },
  {
   "cell_type": "code",
   "execution_count": 2,
   "metadata": {},
   "outputs": [],
   "source": [
    "from load import *"
   ]
  },
  {
   "cell_type": "code",
   "execution_count": 4,
   "metadata": {},
   "outputs": [
    {
     "name": "stderr",
     "output_type": "stream",
     "text": [
      "C:\\Users\\Nawap Bastola\\AppData\\Local\\Temp\\ipykernel_16216\\942227889.py:5: DeprecationWarning: callback_manager is deprecated. Please use callbacks instead.\n",
      "  llm = initialize_llm()\n"
     ]
    },
    {
     "name": "stdout",
     "output_type": "stream",
     "text": [
      "Heading of Topic: Various Image Segmentation Techniques\n",
      "\"Important bullet points of Topic\"\n",
      "- Thresholding technique segmentation:\n",
      "    - Suitable for images with distinct differences between object and background (Global, Variable, Multiple)\n",
      "- Histogram based segmentation:\n",
      "    - Uses a plot of intensity levels to separate different peaks in the histogram.\n",
      "    - Peaks are tall, narrow, symmetric.\n",
      "- Region-based segmentation:\n",
      "    - Segments image into regions having similar characteristics. \n",
      "        - Techniques: region growing and region split and merge\n",
      "- Edge-based segmentation:\n",
      "    - Defines edges as significant changes in intensity between objects in images.\n",
      "    - Useful when there are many objects in the image (differs from region-based segmentation).\n",
      "- Clustering-based segmentation:\n",
      "    - Segments into clusters of pixels with similar characteristics. \n",
      "    - Many types, select best proven success rate.\n",
      "- Texture based segmentation approaches: \n",
      "    - Segmentation based on texture features to divide an image into regions with similar texture.\n",
      "- Morphological Transforms and Filtering:\n",
      "    - Study of shapes and processing images based on shape rather than intensity values.\n",
      "        - Basic morphological filtering operations include erosion, dilation, opening, closing, white top hat, black top hat, and skeletonization.\n",
      "    - Skeleton and convex hull method: \n",
      "        - Convex skull of a polygon is the largest convex polygon contained within it. Found in polynomial time but with high algorithmic complexity for 3D images.\n",
      "\n",
      "- Interaction with 3D Images:\n",
      "    - Morphological filtering applied to 3D data, including kidney image.\n",
      "Conclusion: \n",
      "Image segmentation techniques are diverse and serve different purposes depending on the characteristics of the image. Thresholding, histogram based segmentation, region-based methods (region growing, split and merge), edge-based segmentation, clustering-based approaches, texture based segmentation, morphological transforms, and filtering operations all play a crucial role in processing images effectively. Understanding these techniques allows for more accurate image analysis across various applications.\n",
      "\n",
      "Heading of Topic: 3D Image Processing\n",
      "\"Important bullet points of Topic\"\n",
      "- 3D images involve visualization, processing, and analysis through geometric transformations, filtering, segmentation, etc.\n",
      "- 3D kidney image is analyzed using slices (2D planes) from the 3D data.\n",
      "- Animation frames from 3D images are created to give digital objects the illusion of motion in 3D space.\n",
      "- Tensor structure computation: a 3x3 matrix summarizing orientation at a certain point for volumetric image analysis.\n",
      "\n",
      "Conclusion:\n",
      "3D image processing encompasses various operations like slicing, geometric transformations, filtering, and segmentation. It allows for detailed examination of complex data structures such as the kidney image, enabling dynamic representations through animation frames. Tensor structure computation is particularly useful in analyzing volumetric images by summarizing orientation at specific points."
     ]
    }
   ],
   "source": [
    "def initialize_llm():\n",
    "    callback_manager = CallbackManager([StreamingStdOutCallbackHandler()])\n",
    "    return Ollama(base_url=\"http://localhost:11434\", model=\"qwen3\", callback_manager=callback_manager)\n",
    "\n",
    "llm = initialize_llm()\n",
    "text = read_file(\"samples/sample.pptx\")\n",
    "system_prompt = \"You are an expert assistant that generates structured notes from reference presentations in PDF or TXT format. Your task is to extract the key information and summarize it in a clear and organized format.\"\n",
    "\n",
    "user_prompt = f\"\"\"\n",
    "Please summarize the provided reference text in the following format:\n",
    "\n",
    "1. For each topic, create bullet points that capture the most important information.\n",
    "2. After covering all topics, conclude by summarizing the key insights from all topics combined.\n",
    "\n",
    "Use the following structure:\n",
    "\"Heading of Topic\"\n",
    "\"Important bullet points of Topic\"\n",
    "...\n",
    "Conclusion: Summarize the entire content in a brief, insightful manner.\n",
    "\n",
    "Example:\n",
    "Text:\n",
    "AI in Healthcare\n",
    "Artificial Intelligence is revolutionizing the healthcare industry by improving diagnostics, treatment planning, and operational efficiency. Deep learning algorithms are used for medical imaging, while natural language processing (NLP) helps analyze patient data.\n",
    "\n",
    "AI in Finance\n",
    "In the financial sector, AI is applied in fraud detection, algorithmic trading, and customer service automation. Predictive analytics help identify patterns in large data sets to enhance decision-making and risk management.\n",
    "\n",
    "Ethics in AI\n",
    "As AI continues to grow, ethical considerations have become critical. Issues around privacy, data security, and bias in decision-making algorithms need to be addressed. Responsible AI development ensures fairness and accountability.\n",
    "Summary:\n",
    "AI in Healthcare\n",
    "- AI improves diagnostics, treatment planning, and operational efficiency.\n",
    "- Deep learning is used in medical imaging (e.g., MRI, CT scans).\n",
    "- NLP analyzes patient data for better insights.\n",
    "\n",
    "AI in Finance\n",
    "- AI aids in fraud detection, algorithmic trading, and customer service automation.\n",
    "- Predictive analytics enhance decision-making and risk management by identifying patterns in data.\n",
    "\n",
    "Ethics in AI\n",
    "- Critical ethical concerns include privacy, data security, and algorithmic bias.\n",
    "- Responsible AI development ensures fairness, transparency, and accountability.\n",
    "\n",
    "Conclusion\n",
    "AI is transforming multiple sectors such as healthcare and finance by enhancing efficiency and accuracy. However, ethical considerations must be addressed to ensure responsible usage, focusing on fairness and security.\n",
    "\n",
    "\n",
    "Text:\n",
    "{text}\"\"\"\n",
    "full_prompt = f'''<|im_start|>system\n",
    "{system_prompt}<|im_end|>\n",
    "<|im_start|>user\n",
    "{user_prompt}<|im_end|>\n",
    "<|im_start|>assistant\n",
    "'''\n",
    "response = llm(full_prompt)\n"
   ]
  },
  {
   "cell_type": "code",
   "execution_count": 8,
   "metadata": {},
   "outputs": [
    {
     "data": {
      "text/plain": [
       "'<|im_start|>system\\nYou are a helpful AI assistant that provides clear and concise information.<|im_end|>\\n<|im_start|>user\\nWrite step by step the answer to 2x+3=7.<|im_end|>\\n<|im_start|>assistant\\n'"
      ]
     },
     "execution_count": 8,
     "metadata": {},
     "output_type": "execute_result"
    }
   ],
   "source": [
    "full_prompt"
   ]
  },
  {
   "cell_type": "code",
   "execution_count": null,
   "metadata": {},
   "outputs": [],
   "source": []
  }
 ],
 "metadata": {
  "kernelspec": {
   "display_name": "torchdl",
   "language": "python",
   "name": "python3"
  },
  "language_info": {
   "codemirror_mode": {
    "name": "ipython",
    "version": 3
   },
   "file_extension": ".py",
   "mimetype": "text/x-python",
   "name": "python",
   "nbconvert_exporter": "python",
   "pygments_lexer": "ipython3",
   "version": "3.10.14"
  }
 },
 "nbformat": 4,
 "nbformat_minor": 2
}
